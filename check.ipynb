{
 "cells": [
  {
   "cell_type": "code",
   "execution_count": 2,
   "metadata": {},
   "outputs": [],
   "source": [
    "import multiprocessing\n",
    "import time"
   ]
  },
  {
   "cell_type": "code",
   "execution_count": 3,
   "metadata": {},
   "outputs": [],
   "source": [
    "class Process(multiprocessing.Process):\n",
    "    def __init__(self, id):\n",
    "        super(Process, self).__init__()\n",
    "        self.id=id\n",
    "    def run():\n",
    "        s_t=time.time()\n",
    "        time.sleep(20)\n",
    "        e_t=time.time()\n",
    "        print(\"Stats of pid {}: \\n start_time:{} \\n end_time:{}\".format(self.id, s_t, e_t))"
   ]
  },
  {
   "cell_type": "code",
   "execution_count": 3,
   "metadata": {},
   "outputs": [],
   "source": [
    "def run(id):\n",
    "    s_t=time.time()\n",
    "    # time.sleep(20)\n",
    "    e_t=time.time()\n",
    "    out = \"Stats of pid {}: \\n start_time:{} \\n end_time:{}\".format(id, s_t, e_t)\n",
    "    return out\n",
    "\n",
    "pool=multiprocessing.Pool(processes=4)\n",
    "inputs=[0,1,2,3]\n",
    "outputs=pool.map(run, inputs)\n",
    "print(outputs)"
   ]
  },
  {
   "cell_type": "code",
   "execution_count": 4,
   "metadata": {},
   "outputs": [],
   "source": [
    "def square(x): \n",
    "    return x * x\n",
    "\n",
    "pool = multiprocessing.Pool() \n",
    "pool = multiprocessing.Pool(processes=4) \n",
    "inputs = [0,1,2,3,4] \n",
    "outputs = pool.map(square, inputs) \n",
    "print(\"Input: {}\".format(inputs)) \n",
    "print(\"Output: {}\".format(outputs))"
   ]
  },
  {
   "cell_type": "code",
   "execution_count": 1,
   "metadata": {},
   "outputs": [
    {
     "name": "stdout",
     "output_type": "stream",
     "text": [
      "8\n"
     ]
    }
   ],
   "source": [
    "import os\n",
    "print(os.cpu_count())"
   ]
  },
  {
   "cell_type": "code",
   "execution_count": 6,
   "metadata": {},
   "outputs": [
    {
     "name": "stdout",
     "output_type": "stream",
     "text": [
      "None\n"
     ]
    }
   ],
   "source": [
    "def fa(l):\n",
    "    l = [0]\n",
    "    return l\n",
    "class n:\n",
    "    def __init__(self):\n",
    "        self.l = [1,2,3]\n",
    "    def x(self):\n",
    "        self.l = fa(self.l)\n",
    "        print(self.l)\n",
    "N = n()\n",
    "N.x()"
   ]
  },
  {
   "cell_type": "code",
   "execution_count": 1,
   "metadata": {},
   "outputs": [
    {
     "name": "stdout",
     "output_type": "stream",
     "text": [
      "Files already downloaded and verified\n"
     ]
    }
   ],
   "source": [
    "import torch\n",
    "from torch.utils.data import Dataset, DataLoader\n",
    "import torchvision.transforms as transforms\n",
    "from torchvision.datasets import CIFAR10\n",
    "\n",
    "class DirichletDataset(Dataset):\n",
    "    def __init__(self, alpha, cifar_dataset):\n",
    "        self.alpha = alpha\n",
    "        self.cifar_dataset = cifar_dataset\n",
    "        self.dirichlet_dist = torch.distributions.Dirichlet(alpha)\n",
    "\n",
    "    def __len__(self):\n",
    "        return len(self.cifar_dataset)\n",
    "\n",
    "    def __getitem__(self, idx):\n",
    "        image, label = self.cifar_dataset[idx]\n",
    "        proportions = self.dirichlet_dist.sample()\n",
    "        return {'image': image, 'label': label, 'proportions': proportions}\n",
    "\n",
    "alpha = torch.tensor([1.0, 1.0, 1.0])\n",
    "\n",
    "transform = transforms.Compose([\n",
    "    transforms.ToTensor(),\n",
    "    transforms.Normalize((0.5, 0.5, 0.5), (0.5, 0.5, 0.5)),\n",
    "])\n",
    "\n",
    "cifar_dataset = CIFAR10(root='/home/workstaion/Desktop/Federated_Learning/VRGAS/src/Simulator/data', train=True, download=True, transform=transform)\n",
    "dirichlet_dataset = DirichletDataset(alpha, cifar_dataset)\n",
    "batch_size = 64\n",
    "dirichlet_dataloader = DataLoader(dirichlet_dataset, batch_size=batch_size, shuffle=True)"
   ]
  },
  {
   "cell_type": "code",
   "execution_count": 36,
   "metadata": {},
   "outputs": [
    {
     "data": {
      "text/plain": [
       "{'image': tensor([[[-0.5373, -0.6627, -0.6078,  ...,  0.2392,  0.1922,  0.1608],\n",
       "          [-0.8745, -1.0000, -0.8588,  ..., -0.0353, -0.0667, -0.0431],\n",
       "          [-0.8039, -0.8745, -0.6157,  ..., -0.0745, -0.0588, -0.1451],\n",
       "          ...,\n",
       "          [ 0.6314,  0.5765,  0.5529,  ...,  0.2549, -0.5608, -0.5843],\n",
       "          [ 0.4118,  0.3569,  0.4588,  ...,  0.4431, -0.2392, -0.3490],\n",
       "          [ 0.3882,  0.3176,  0.4039,  ...,  0.6941,  0.1843, -0.0353]],\n",
       " \n",
       "         [[-0.5137, -0.6392, -0.6235,  ...,  0.0353, -0.0196, -0.0275],\n",
       "          [-0.8431, -1.0000, -0.9373,  ..., -0.3098, -0.3490, -0.3176],\n",
       "          [-0.8118, -0.9451, -0.7882,  ..., -0.3412, -0.3412, -0.4275],\n",
       "          ...,\n",
       "          [ 0.3333,  0.2000,  0.2627,  ...,  0.0431, -0.7569, -0.7333],\n",
       "          [ 0.0902, -0.0353,  0.1294,  ...,  0.1608, -0.5137, -0.5843],\n",
       "          [ 0.1294,  0.0118,  0.1137,  ...,  0.4431, -0.0745, -0.2784]],\n",
       " \n",
       "         [[-0.5059, -0.6471, -0.6627,  ..., -0.1529, -0.2000, -0.1922],\n",
       "          [-0.8431, -1.0000, -1.0000,  ..., -0.5686, -0.6078, -0.5529],\n",
       "          [-0.8353, -1.0000, -0.9373,  ..., -0.6078, -0.6078, -0.6706],\n",
       "          ...,\n",
       "          [-0.2471, -0.7333, -0.7961,  ..., -0.4510, -0.9451, -0.8431],\n",
       "          [-0.2471, -0.6706, -0.7647,  ..., -0.2627, -0.7333, -0.7333],\n",
       "          [-0.0902, -0.2627, -0.3176,  ...,  0.0980, -0.3412, -0.4353]]]),\n",
       " 'label': 6,\n",
       " 'proportions': tensor([0.2023, 0.7912, 0.0065])}"
      ]
     },
     "execution_count": 36,
     "metadata": {},
     "output_type": "execute_result"
    }
   ],
   "source": [
    "dirichlet_dataset[0]"
   ]
  }
 ],
 "metadata": {
  "kernelspec": {
   "display_name": "Python 3 (ipykernel)",
   "language": "python",
   "name": "python3"
  },
  "language_info": {
   "codemirror_mode": {
    "name": "ipython",
    "version": 3
   },
   "file_extension": ".py",
   "mimetype": "text/x-python",
   "name": "python",
   "nbconvert_exporter": "python",
   "pygments_lexer": "ipython3",
   "version": "3.11.6"
  }
 },
 "nbformat": 4,
 "nbformat_minor": 2
}
